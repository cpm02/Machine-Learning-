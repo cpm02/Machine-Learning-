{
 "cells": [
  {
   "cell_type": "markdown",
   "metadata": {},
   "source": [
    "# <center> IIIT Vadodara </center>\n",
    "## <center> Winter 2021-22 </center>\n",
    "## <center> CS 612, CS 652, CS/IT 308 Machine Learning </center>\n",
    "## <center> Lab#1 INTRODUCTION </center>"
   ]
  },
  {
   "cell_type": "markdown",
   "metadata": {
    "colab_type": "text",
    "id": "SC8rZl_fnw1d"
   },
   "source": [
    "## Basic of Numbers in python"
   ]
  },
  {
   "cell_type": "code",
   "execution_count": 58,
   "metadata": {
    "colab": {},
    "colab_type": "code",
    "id": "Rr8W2uMznw1g"
   },
   "outputs": [
    {
     "name": "stdout",
     "output_type": "stream",
     "text": [
      "3 <class 'int'>\n"
     ]
    }
   ],
   "source": [
    "x = 3\n",
    "print (x, type(x))"
   ]
  },
  {
   "cell_type": "code",
   "execution_count": 59,
   "metadata": {
    "colab": {},
    "colab_type": "code",
    "id": "SJouww7Inw1p"
   },
   "outputs": [
    {
     "name": "stdout",
     "output_type": "stream",
     "text": [
      "4\n",
      "2\n",
      "6\n",
      "9\n"
     ]
    }
   ],
   "source": [
    "print (x + 1)   # Addition;\n",
    "print (x - 1)   # Subtraction;\n",
    "print (x * 2)   # Multiplication;\n",
    "print (x ** 2)  # Exponentiation;"
   ]
  },
  {
   "cell_type": "code",
   "execution_count": 60,
   "metadata": {
    "colab": {},
    "colab_type": "code",
    "id": "nj14uZF2nw1z"
   },
   "outputs": [
    {
     "name": "stdout",
     "output_type": "stream",
     "text": [
      "4\n",
      "8\n"
     ]
    }
   ],
   "source": [
    "x += 1\n",
    "print (x)  # Prints \"4\"\n",
    "x *= 2\n",
    "print (x)  # Prints \"8\""
   ]
  },
  {
   "cell_type": "code",
   "execution_count": 61,
   "metadata": {
    "colab": {},
    "colab_type": "code",
    "id": "gUMeY7ILnw16"
   },
   "outputs": [
    {
     "name": "stdout",
     "output_type": "stream",
     "text": [
      "<class 'float'>\n",
      "2.5 3.5 5.0 6.25\n"
     ]
    }
   ],
   "source": [
    "y = 2.5\n",
    "print (type(y) )# Prints \"<type 'float'>\"\n",
    "print (y, y + 1, y * 2, y ** 2) # Prints \"2.5 3.5 5.0 6.25\""
   ]
  },
  {
   "cell_type": "markdown",
   "metadata": {
    "colab_type": "text",
    "id": "qxvvHiItnw2H"
   },
   "source": [
    "Note that unlike many languages, Python does not have unary increment (x++) or decrement (x--) operators.\n",
    "\n",
    "Python also has built-in types for long integers and complex numbers; you can find all of the details in the [documentation](https://docs.python.org/2/library/stdtypes.html#numeric-types-int-float-long-complex)."
   ]
  },
  {
   "cell_type": "markdown",
   "metadata": {
    "colab_type": "text",
    "id": "EPF5FeiybxYi"
   },
   "source": [
    "## Numpy \n",
    "Numpy is the core library for scientific computing in Python. It provides a high-performance multidimensional array object, and tools for working with these arrays. If you are already familiar with MATLAB,"
   ]
  },
  {
   "cell_type": "code",
   "execution_count": 62,
   "metadata": {
    "colab": {},
    "colab_type": "code",
    "id": "zzuw0IDlb4uY"
   },
   "outputs": [],
   "source": [
    "import numpy as np"
   ]
  },
  {
   "cell_type": "markdown",
   "metadata": {
    "colab_type": "text",
    "id": "UjZvGRYzb6xp"
   },
   "source": [
    "Find details of mathemetical function in numpy  at https://docs.scipy.org/doc/numpy-1.15.0/reference/routines.math.html"
   ]
  },
  {
   "cell_type": "markdown",
   "metadata": {
    "colab_type": "text",
    "id": "WM95q6CkXwv6"
   },
   "source": [
    "## <font color='red'>1. Evaluate the expression $a^3+\\sqrt{bd}-4c$, where $a=1.2, b=2.3, c=4.5$ and $d=4$.</font> "
   ]
  },
  {
   "cell_type": "code",
   "execution_count": 63,
   "metadata": {
    "colab": {},
    "colab_type": "code",
    "id": "3CI1OWaFYsyg"
   },
   "outputs": [
    {
     "name": "stdout",
     "output_type": "stream",
     "text": [
      "-13.23884982237938\n"
     ]
    }
   ],
   "source": [
    "#Write your code\n",
    "a=1.2\n",
    "b=2.3\n",
    "c=4.5\n",
    "d=4\n",
    "ans=np.power(a,3)+np.sqrt(np.multiply(b,d))-4*c\n",
    "print(ans)\n"
   ]
  },
  {
   "cell_type": "markdown",
   "metadata": {
    "colab_type": "text",
    "id": "e_J4a3YEfe6P"
   },
   "source": [
    "## Numpy array indexing and array operations\n",
    "Help to create Numpy array: https://docs.scipy.org/doc/numpy-1.15.0/reference/generated/numpy.array.html#numpy.array\n",
    "\n",
    "Help to create Numpy array indexing:https://docs.scipy.org/doc/numpy-1.15.0/reference/arrays.indexing.html\n",
    "\n",
    "Help to create Numpy for matlab user:https://docs.scipy.org/doc/numpy/user/numpy-for-matlab-users.html\n"
   ]
  },
  {
   "cell_type": "markdown",
   "metadata": {
    "colab_type": "text",
    "id": "3IPVZYK9dkxa"
   },
   "source": [
    "## <font color='red'>2. Consider the two matrices: </font>\n",
    "\n",
    "$A=\\begin{bmatrix}4 & -6 \\\\6 & 10\n",
    "\\end{bmatrix}$ $B=\\begin{bmatrix}6 & -13 \\\\3.4 & 16\n",
    "\\end{bmatrix}$.\n",
    "## <font color='red'>Find: (a) $A+B$ (b) $B^2$ (c) $AB$ (d) $B^TA^T$ (e) Replace the second column of $A$ with that of $B$. "
   ]
  },
  {
   "cell_type": "code",
   "execution_count": 64,
   "metadata": {
    "colab": {},
    "colab_type": "code",
    "id": "w-nnu6l4gIY6"
   },
   "outputs": [
    {
     "name": "stdout",
     "output_type": "stream",
     "text": [
      "[[ 10.  -19. ]\n",
      " [  9.4  26. ]]\n",
      "[[  -8.2 -286. ]\n",
      " [  74.8  211.8]]\n",
      "[[   3.6 -148. ]\n",
      " [  70.    82. ]]\n",
      "[[   3.6   70. ]\n",
      " [-148.    82. ]]\n"
     ]
    }
   ],
   "source": [
    "#write your code\n",
    "A=np.array([[4, -6], [6, 10]])\n",
    "B=np.array([[6, -13], [3.4, 16]])\n",
    "print(A+B)\n",
    "print\n",
    "print(np.dot(B,B))\n",
    "print(np.dot(A,B))\n",
    "print(np.transpose(np.dot(A,B)))\n"
   ]
  },
  {
   "cell_type": "markdown",
   "metadata": {
    "colab_type": "text",
    "id": "AaDe3HVi-mgV"
   },
   "source": [
    "## Numpy : Linear *algebra*\n",
    "https://docs.scipy.org/doc/numpy-1.15.0/reference/routines.linalg.html"
   ]
  },
  {
   "cell_type": "markdown",
   "metadata": {
    "colab_type": "text",
    "id": "QyptrBW578Se"
   },
   "source": [
    "## <font color='red'>3. Find the solution of the following set of linear algebraic equations:$$5x+6y+10z=4$$ $$-3x+14z=10$$ $$-7y+21z=0$$</font> "
   ]
  },
  {
   "cell_type": "code",
   "execution_count": 65,
   "metadata": {
    "colab": {},
    "colab_type": "code",
    "id": "F6Ta5w348idj"
   },
   "outputs": [
    {
     "name": "stdout",
     "output_type": "stream",
     "text": [
      "[[-1.45454545]\n",
      " [ 1.20779221]\n",
      " [ 0.4025974 ]]\n"
     ]
    }
   ],
   "source": [
    "#write your code\n",
    "P=np.array([[5, 6,10], [-3, 0,14],[0,-7,21]])\n",
    "Q=np.array([[4], [10],[0]])\n",
    "pinv=np.linalg.inv(P)\n",
    "print(np.dot(pinv,Q))"
   ]
  },
  {
   "cell_type": "markdown",
   "metadata": {
    "colab_type": "text",
    "id": "zhGD6rIYCJ8i"
   },
   "source": [
    "## <font color='red'>4. Find the solution of the following set of linear algebraic equations such that $\\Vert Ax-b\\Vert^2_2$is minimized:$$5x+6y+10z=4$$ $$-3x+14z=10$$ $$-7y+21z=0$$$$2x-y+45z=16$$</font> \n",
    "Hint: Use psudo inverse"
   ]
  },
  {
   "cell_type": "code",
   "execution_count": 66,
   "metadata": {
    "colab": {},
    "colab_type": "code",
    "id": "HyVZ5bHKC6Lr"
   },
   "outputs": [
    {
     "name": "stdout",
     "output_type": "stream",
     "text": [
      "[[-1.46103896]\n",
      " [ 1.2393321 ]\n",
      " [ 0.43692022]]\n"
     ]
    }
   ],
   "source": [
    "#write your code\n",
    "P=np.array([[5, 6,10], [-3, 0,14],[0,-7,21],[2,-1,45]])\n",
    "Q=np.array([[4], [10],[0],[16]])\n",
    "pin=np.linalg.pinv(P)\n",
    "print(np.dot(pin,Q))"
   ]
  },
  {
   "cell_type": "markdown",
   "metadata": {
    "colab_type": "text",
    "id": "3B34NIubEbA-"
   },
   "source": [
    "## <font color='red'>5. create following two arrays:\n",
    "(a) Array of ones with 10 elements \n",
    "(b) Array a[1] = 2; a[2] = 3 and a[3] to a[10] are zero</font> "
   ]
  },
  {
   "cell_type": "code",
   "execution_count": 67,
   "metadata": {
    "colab": {},
    "colab_type": "code",
    "id": "iu6GxTFAFZFP"
   },
   "outputs": [
    {
     "name": "stdout",
     "output_type": "stream",
     "text": [
      "[1. 1. 1. 1. 1. 1. 1. 1. 1. 1.]\n",
      "[1. 2. 3. 0. 0. 0. 0. 0. 0. 0.]\n"
     ]
    }
   ],
   "source": [
    "#write code here\n",
    "a=np.ones(10)\n",
    "print(a)\n",
    "a[1]=2\n",
    "a[2]=3\n",
    "a[3:]=0\n",
    "print(a)"
   ]
  },
  {
   "cell_type": "markdown",
   "metadata": {
    "colab_type": "text",
    "id": "OnPJvy9GH1H4"
   },
   "source": [
    "##Numpy: Statistics\n",
    "https://docs.scipy.org/doc/numpy-1.15.1/reference/routines.statistics.html\n",
    "\n",
    "For random sampling : https://docs.scipy.org/doc/numpy-1.15.0/reference/routines.random.html"
   ]
  },
  {
   "cell_type": "markdown",
   "metadata": {
    "colab_type": "text",
    "id": "C_ODKpdbF758"
   },
   "source": [
    "## <font color='red'>6. Create two arrays indicating marks of students in two subjects. Get average vector of them.</font> "
   ]
  },
  {
   "cell_type": "code",
   "execution_count": 68,
   "metadata": {
    "colab": {},
    "colab_type": "code",
    "id": "g-ndczyOGJdc"
   },
   "outputs": [
    {
     "name": "stdout",
     "output_type": "stream",
     "text": [
      "[ 8.5  8.5 12.   9.   8.   7. ]\n"
     ]
    }
   ],
   "source": [
    "#write code here\n",
    "maths=np.array([12,11,14,10,9,8])\n",
    "phy=np.array([5,6,10,8,7,6])\n",
    "avgmark=(maths+phy)/2\n",
    "print(avgmark)"
   ]
  },
  {
   "cell_type": "markdown",
   "metadata": {
    "colab_type": "text",
    "id": "3p0ybKFWbbZO"
   },
   "source": [
    "## Matplotlib: For Plot\n",
    "https://matplotlib.org/tutorials/introductory/pyplot.html#sphx-glr-tutorials-introductory-pyplot-py"
   ]
  },
  {
   "cell_type": "code",
   "execution_count": 69,
   "metadata": {
    "colab": {},
    "colab_type": "code",
    "id": "5onZQOXoJDbZ"
   },
   "outputs": [],
   "source": [
    "import matplotlib.pyplot as plt\n",
    "%matplotlib inline\n"
   ]
  },
  {
   "cell_type": "markdown",
   "metadata": {
    "colab_type": "text",
    "id": "Q8aC6tu_IQGE"
   },
   "source": [
    "## <font color='red'>7. Plot the following linear functions:\n",
    "\n",
    "1.   $y=2x+3 $ from $-10\\le x\\le 10$ \n",
    "2.   $y=x-15 $ from $-10\\le x\\le 10$\n",
    "<font>\n"
   ]
  },
  {
   "cell_type": "code",
   "execution_count": 70,
   "metadata": {
    "colab": {},
    "colab_type": "code",
    "id": "3BPpQrpZnw-q"
   },
   "outputs": [
    {
     "data": {
      "image/png": "[encoded data removed]",
      "text/plain": [
       "<Figure size 432x288 with 1 Axes>"
      ]
     },
     "metadata": {
      "needs_background": "light"
     },
     "output_type": "display_data"
    }
   ],
   "source": [
    "# write code here for 1\n",
    "x=np.linspace(-10,10,100)\n",
    "y=2*x+3\n",
    "plt.plot(x,y)\n",
    "plt.grid()"
   ]
  },
  {
   "cell_type": "code",
   "execution_count": null,
   "metadata": {},
   "outputs": [],
   "source": []
  },
  {
   "cell_type": "code",
   "execution_count": 71,
   "metadata": {
    "colab": {},
    "colab_type": "code",
    "id": "4i-cG2VKKBUN"
   },
   "outputs": [
    {
     "data": {
      "image/png": "[encoded data removed]",
      "text/plain": [
       "<Figure size 432x288 with 1 Axes>"
      ]
     },
     "metadata": {
      "needs_background": "light"
     },
     "output_type": "display_data"
    }
   ],
   "source": [
    "# write code here for 2\n",
    "x=np.linspace(-10,10,100)\n",
    "y=x-15\n",
    "plt.plot(x,y)\n",
    "plt.grid()"
   ]
  },
  {
   "cell_type": "markdown",
   "metadata": {},
   "source": [
    "## <font color='red'>8. Plot the following non-linear functions:\n",
    "\n",
    "1.   $y=2x^2+3x+1 $ from $-10\\le x\\le 10$ \n",
    "2.   $y=x^3+1 $ from $-10\\le x\\le 10$\n",
    "<font>"
   ]
  },
  {
   "cell_type": "code",
   "execution_count": 72,
   "metadata": {
    "colab": {},
    "colab_type": "code",
    "id": "07HnsfnSdjqk"
   },
   "outputs": [
    {
     "data": {
      "image/png": "[encoded data removed]",
      "text/plain": [
       "<Figure size 432x288 with 1 Axes>"
      ]
     },
     "metadata": {
      "needs_background": "light"
     },
     "output_type": "display_data"
    }
   ],
   "source": [
    "# write code here for 3\n",
    "x=np.linspace(-10,10,100)\n",
    "y=2*np.power(x,2)+3*x+1\n",
    "plt.plot(x,y)\n",
    "plt.grid()"
   ]
  },
  {
   "cell_type": "code",
   "execution_count": 73,
   "metadata": {
    "colab": {},
    "colab_type": "code",
    "id": "zH53q0TcdkPv"
   },
   "outputs": [
    {
     "data": {
      "image/png": "[encoded data removed]",
      "text/plain": [
       "<Figure size 432x288 with 1 Axes>"
      ]
     },
     "metadata": {
      "needs_background": "light"
     },
     "output_type": "display_data"
    }
   ],
   "source": [
    "# write code here for 4\n",
    "x=np.linspace(-10,10,100)\n",
    "y=np.power(x,3)+1\n",
    "plt.plot(x,y)\n",
    "plt.grid()"
   ]
  },
  {
   "cell_type": "markdown",
   "metadata": {
    "colab_type": "text",
    "id": "GobP2IePGThL"
   },
   "source": [
    "## <font color='red'>9. Write code to verify whether the given vectors are linearly independent or not.\n",
    "v1 = [6 0 3 1 4 2];\n",
    "v2 = [0 -1 2 7 0 5];\n",
    "v3 = [12 3 0 -19 8 -11].</font> \n",
    "\n",
    "Hint: You can use matrix rank or rref form with help of numpy.linalg library "
   ]
  },
  {
   "cell_type": "code",
   "execution_count": 74,
   "metadata": {
    "colab": {},
    "colab_type": "code",
    "id": "hYOPaUUqG0-Y"
   },
   "outputs": [
    {
     "name": "stdout",
     "output_type": "stream",
     "text": [
      "linearly dependent\n"
     ]
    }
   ],
   "source": [
    "#write code here\n",
    "v1 = [6, 0, 3, 1, 4 ,2]\n",
    "v2 = [0, -1, 2, 7, 0, 5]\n",
    "v3 = [12, 3, 0, -19, 8, -11]\n",
    "H=np.array([v1,v2,v3])\n",
    "#print(H)\n",
    "#print(np.linalg.det(H))\n",
    "\n",
    "x = np.linalg.matrix_rank(H)\n",
    "\n",
    "if (len(H) == x):\n",
    "    print(\"linearly independent\")\n",
    "else :\n",
    "    print(\"linearly dependent\")"
   ]
  },
  {
   "cell_type": "markdown",
   "metadata": {
    "colab_type": "text",
    "id": "dHjk5I0QM3S0"
   },
   "source": [
    "## <font color='red'>10. For real symmetric matrix.  \n",
    "1.   Find the Eigen values and eigen vectors\n",
    "2.   Verify properties of Eigen values and Eigen vector.</font>\n",
    "\n",
    "As example, $A=\\begin{bmatrix}1 & 2 & 3 \\\\2 & 5 & 6\\\\3 & 6 & 7\n",
    "\\end{bmatrix}$"
   ]
  },
  {
   "cell_type": "code",
   "execution_count": 75,
   "metadata": {
    "colab": {},
    "colab_type": "code",
    "id": "pIwy4pqQN1cn"
   },
   "outputs": [
    {
     "name": "stdout",
     "output_type": "stream",
     "text": [
      "[13.14061745  0.32610415 -0.4667216 ]\n",
      "[[-0.28323481 -0.68784863 -0.66831303]\n",
      " [-0.61312867  0.66571204 -0.42532424]\n",
      " [-0.73746272 -0.28929525  0.61029254]]\n"
     ]
    }
   ],
   "source": [
    "#write code here\n",
    "A=np.array([[1, 2,3], [2, 5,6],[3,6,7]])\n",
    "w,v=np.linalg.eig(A)\n",
    "print(w)\n",
    "print(v)"
   ]
  },
  {
   "cell_type": "markdown",
   "metadata": {
    "colab_type": "text",
    "id": "167i2Ni7X1oZ"
   },
   "source": [
    "## Python Function:\n",
    "https://www.tutorialspoint.com/python/python_functions.htm"
   ]
  },
  {
   "cell_type": "markdown",
   "metadata": {
    "colab_type": "text",
    "id": "iauUBzH2SKPk"
   },
   "source": [
    "## <font color='red'>11. Write code for the following:\n",
    "  \n",
    "\n",
    "1.   Create a column vector with 10 values of temperature in degree centigrade $C^\\circ$\n",
    "2.   Convert each of the temperature values in degree Fahrenheit using the formula $$F^\\circ=\\frac{9}{2}C^\\circ+32$$\n",
    "1.   Make the final matrix with temperature values in $C^\\circ$ as the first column and in F as the second column.\n",
    "<font>\n",
    "\n"
   ]
  },
  {
   "cell_type": "code",
   "execution_count": 76,
   "metadata": {
    "colab": {},
    "colab_type": "code",
    "id": "RDtWZvYuTsPS"
   },
   "outputs": [],
   "source": [
    "def ctof(c):\n",
    "    f=(9/5)*c+32\n",
    "    return f"
   ]
  },
  {
   "cell_type": "code",
   "execution_count": 77,
   "metadata": {
    "colab": {},
    "colab_type": "code",
    "id": "DqwYVjmWUz4H"
   },
   "outputs": [],
   "source": [
    "#write code for 1\n",
    "can=np.random.rand(10)*100"
   ]
  },
  {
   "cell_type": "code",
   "execution_count": 78,
   "metadata": {
    "colab": {},
    "colab_type": "code",
    "id": "--ytBr4EYEL_"
   },
   "outputs": [],
   "source": [
    "#write code for 2\n",
    "ans=np.zeros(10)\n",
    "for i in range(0,10):\n",
    "    ans[i]=ctof(can[i])\n",
    "    "
   ]
  },
  {
   "cell_type": "code",
   "execution_count": 79,
   "metadata": {
    "colab": {},
    "colab_type": "code",
    "id": "jHbry5XnYNpN"
   },
   "outputs": [
    {
     "name": "stdout",
     "output_type": "stream",
     "text": [
      "[[ 34.38401107  93.89121992]\n",
      " [ 15.73986683  60.33176029]\n",
      " [ 88.8170714  191.87072853]\n",
      " [  6.4938431   43.68891758]\n",
      " [ 50.19923606 122.35862491]\n",
      " [ 75.85117274 168.53211093]\n",
      " [ 19.13510574  66.44319033]\n",
      " [ 70.36894637 158.66410347]\n",
      " [ 16.56129839  61.8103371 ]\n",
      " [ 66.68186303 152.02735346]]\n"
     ]
    }
   ],
   "source": [
    "#write code for \n",
    "final=np.array([can,ans])\n",
    "print(np.transpose(final))"
   ]
  },
  {
   "cell_type": "markdown",
   "metadata": {
    "colab_type": "text",
    "id": "7R2JhXrrY9-2"
   },
   "source": [
    "## Python : Control statements\n",
    "if else: https://www.w3schools.com/python/python_conditions.asp\n",
    "\n",
    "while loop : https://www.w3schools.com/python/python_while_loops.asp\n",
    "\n",
    "for loop : https://www.w3schools.com/python/python_for_loops.asp"
   ]
  },
  {
   "cell_type": "markdown",
   "metadata": {
    "colab_type": "text",
    "id": "ER-fUvoFYir-"
   },
   "source": [
    "## <font color='red'>12. Determine the probability of 3 heads in 4 tosses of a coin with probability of head being $p=0.75$. Use a relative frequency interpretation of probability to yield the result."
   ]
  },
  {
   "cell_type": "code",
   "execution_count": 80,
   "metadata": {
    "colab": {},
    "colab_type": "code",
    "id": "80ti1ZQTY8UF"
   },
   "outputs": [
    {
     "name": "stdout",
     "output_type": "stream",
     "text": [
      "0.4229\n"
     ]
    }
   ],
   "source": [
    "#write code here\n",
    "count=0\n",
    "ans=0\n",
    "for i in range(1,10000):\n",
    "    sample=np.random.rand(4)\n",
    "    for j in sample:\n",
    "        if(j>0.25):\n",
    "            count=count+1\n",
    "    if(count==3):\n",
    "        ans+=1\n",
    "    count=0\n",
    "            \n",
    "print(ans/10000)"
   ]
  },
  {
   "cell_type": "markdown",
   "metadata": {
    "colab_type": "text",
    "id": "uqQyo3jNd3Df"
   },
   "source": [
    "## <font color='red'>13. Write a program that will add all the numbers corresponding to the even indices of an array. Use that program to find the sum of all even integers from 1 to 1000.<font>"
   ]
  },
  {
   "cell_type": "code",
   "execution_count": 81,
   "metadata": {
    "colab": {},
    "colab_type": "code",
    "id": "JzmE6DJJeYvH"
   },
   "outputs": [],
   "source": [
    "#hint: Write your program as follows: where x is the input vector, and y is the sum of all the numbers corresponding to the even indices of x. \n",
    "def addeven(x):\n",
    "    sum=0\n",
    "    for i in x:\n",
    "        if(i%2==0):\n",
    "            sum=sum+i\n",
    "    return sum"
   ]
  },
  {
   "cell_type": "code",
   "execution_count": 82,
   "metadata": {
    "colab": {},
    "colab_type": "code",
    "id": "swRSzjrUeu3D"
   },
   "outputs": [
    {
     "data": {
      "text/plain": [
       "250500"
      ]
     },
     "execution_count": 82,
     "metadata": {},
     "output_type": "execute_result"
    }
   ],
   "source": [
    "#\n",
    "a=np.arange(start=0,stop=1001,step=1) #generate array\n",
    "addeven(a)"
   ]
  },
  {
   "cell_type": "markdown",
   "metadata": {},
   "source": [
    "## <font color='red'>14. Write a program to generate random number.<font>\n",
    "    Hint: use Linear Congruential Generator. link: https://en.wikipedia.org/wiki/Linear_congruential_generator"
   ]
  },
  {
   "cell_type": "code",
   "execution_count": 83,
   "metadata": {},
   "outputs": [
    {
     "name": "stdout",
     "output_type": "stream",
     "text": [
      "[5. 4. 1. 6. 0. 3. 5. 4. 1. 6.]\n"
     ]
    }
   ],
   "source": [
    "x0=5\n",
    "m=7\n",
    "a=3\n",
    "c=3\n",
    "num=10\n",
    "randnum=np.zeros(10)\n",
    "def sol(x0,m,a,c,randnum,num):\n",
    "    randnum[0]=x0\n",
    "    for i in range(1,num):\n",
    "        randnum[i]=((randnum[i-1]*a)+c)%m\n",
    "        \n",
    "sol(x0,m,a,c,randnum,num)\n",
    "print(randnum)"
   ]
  },
  {
   "cell_type": "code",
   "execution_count": null,
   "metadata": {},
   "outputs": [],
   "source": []
  },
  {
   "cell_type": "code",
   "execution_count": null,
   "metadata": {},
   "outputs": [],
   "source": []
  },
  {
   "cell_type": "code",
   "execution_count": null,
   "metadata": {},
   "outputs": [],
   "source": []
  }
 ],
 "metadata": {
  "accelerator": "GPU",
  "colab": {
   "collapsed_sections": [],
   "name": "LAB 1 Introduction to python for CT314.ipynb",
   "provenance": [],
   "version": "0.3.2"
  },
  "kernelspec": {
   "display_name": "Python 3",
   "language": "python",
   "name": "python3"
  },
  "language_info": {
   "codemirror_mode": {
    "name": "ipython",
    "version": 3
   },
   "file_extension": ".py",
   "mimetype": "text/x-python",
   "name": "python",
   "nbconvert_exporter": "python",
   "pygments_lexer": "ipython3",
   "version": "3.7.9"
  }
 },
 "nbformat": 4,
 "nbformat_minor": 1
}
