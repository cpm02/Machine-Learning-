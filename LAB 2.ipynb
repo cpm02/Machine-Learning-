{
 "cells": [
  {
   "cell_type": "markdown",
   "metadata": {},
   "source": [
    "# <center> IIIT Vadodara </center>\n",
    "## <center> Winter 2021-22 </center>\n",
    "## <center> CS 612, CS 652, CS/IT 308 Machine Learning </center>\n",
    "## <center> Lab#2 Bayes' classifier,k-means and k-NN</center>"
   ]
  },
  {
   "cell_type": "code",
   "execution_count": 5,
   "metadata": {},
   "outputs": [],
   "source": [
    "import numpy as np\n",
    "import matplotlib.pyplot as plt"
   ]
  },
  {
   "cell_type": "markdown",
   "metadata": {},
   "source": [
    "## 1. Bayesian decision rule under normality assumption\n",
    "Hint: use classnote for same"
   ]
  },
  {
   "cell_type": "markdown",
   "metadata": {},
   "source": [
    "### Consider the following data:\n",
    "Here, second column represent the class"
   ]
  },
  {
   "cell_type": "code",
   "execution_count": 6,
   "metadata": {},
   "outputs": [
    {
     "name": "stdout",
     "output_type": "stream",
     "text": [
      "Feature|Classe\n",
      "[[3.39 0.  ]\n",
      " [3.58 0.  ]\n",
      " [2.28 0.  ]\n",
      " [7.42 1.  ]\n",
      " [5.74 1.  ]\n",
      " [9.17 1.  ]\n",
      " [7.79 1.  ]\n",
      " [7.93 1.  ]\n",
      " [1.34 0.  ]\n",
      " [3.11 0.  ]]\n"
     ]
    }
   ],
   "source": [
    "dataset = np.array([[3.39,0],[3.58,0],[2.28,0],[7.42,1],[5.74,1],[9.17,1],[7.79,1],[7.93,1],[1.34,0],[3.11,0]])\n",
    "print('Feature|Classe')\n",
    "print(dataset)"
   ]
  },
  {
   "cell_type": "markdown",
   "metadata": {},
   "source": [
    "### Find class probability $P_1$ and $P_2$"
   ]
  },
  {
   "cell_type": "code",
   "execution_count": 7,
   "metadata": {},
   "outputs": [
    {
     "name": "stdout",
     "output_type": "stream",
     "text": [
      "class probability of P1: 0.5\n",
      "class probability of P2: 0.5\n"
     ]
    }
   ],
   "source": [
    "#write code here\n",
    "count0=0\n",
    "count1=0\n",
    "total=(dataset.shape[0])\n",
    "for i in range(0,10):\n",
    "    if(dataset[i,1]==0):\n",
    "        count0+=1\n",
    "    else:\n",
    "        count1+=1\n",
    "P1=count0/total#num of times class 0 in data set\n",
    "P2=count1/total#num of times class 1 in data set\n",
    "print(\"class probability of P1:\",P1)\n",
    "print(\"class probability of P2:\",P2)"
   ]
  },
  {
   "cell_type": "code",
   "execution_count": null,
   "metadata": {},
   "outputs": [],
   "source": []
  },
  {
   "cell_type": "markdown",
   "metadata": {},
   "source": [
    "### Find sample mean and sample standard deviation for each class "
   ]
  },
  {
   "cell_type": "code",
   "execution_count": 8,
   "metadata": {},
   "outputs": [
    {
     "name": "stdout",
     "output_type": "stream",
     "text": [
      "mean and sd for class 0: 2.7399999999999998 0.8290476463991681\n",
      "mean and sd for class 1: 7.609999999999999 1.1046628444914763\n"
     ]
    }
   ],
   "source": [
    "mean1=0\n",
    "mean0=0\n",
    "sd1=0\n",
    "sd0=0\n",
    "for i in range(0,total):\n",
    "    if(dataset[i,1]==0):\n",
    "        mean0+=dataset[i,0]\n",
    "    else:\n",
    "        mean1+=dataset[i,0]\n",
    "mean1=mean1/(total/2)\n",
    "mean0=mean0/(total/2)\n",
    "for i in range(0,total):\n",
    "    if(dataset[i,1]==0):\n",
    "        sd0+=np.power(dataset[i,0]-mean0,2)\n",
    "    else:\n",
    "        sd1+=np.power(dataset[i,0]-mean1,2)\n",
    "sd1=np.sqrt(sd1/(total/2))\n",
    "sd0=np.sqrt(sd0/(total/2))\n",
    "print(\"mean and sd for class 0:\",mean0,sd0)\n",
    "print(\"mean and sd for class 1:\",mean1,sd1)"
   ]
  },
  {
   "cell_type": "markdown",
   "metadata": {},
   "source": [
    "### Plot $p_1(x)$ and $p_2(x)$"
   ]
  },
  {
   "cell_type": "code",
   "execution_count": 9,
   "metadata": {},
   "outputs": [],
   "source": [
    "# Calculate the Gaussian probability distribution function for x\n",
    "import math\n",
    "def calculate_probability(x, mean, stdev):\n",
    "    p=(1/(stdev*(np.sqrt(2*math.pi))))*(np.exp((-1/2)*(np.power((x-mean)/stdev,2))))\n",
    "    return p"
   ]
  },
  {
   "cell_type": "code",
   "execution_count": 10,
   "metadata": {},
   "outputs": [
    {
     "data": {
      "image/png": "[encoded data removed]",
      "text/plain": [
       "<Figure size 432x288 with 1 Axes>"
      ]
     },
     "metadata": {
      "needs_background": "light"
     },
     "output_type": "display_data"
    }
   ],
   "source": [
    "x  = np.array([3.39,3.58,2.28,1.34,3.11])\n",
    "y=np.array([7.42,5.74,9.17,7.79,7.93])\n",
    "k=np.arange(0,12,0.1)\n",
    "plt.plot(k,calculate_probability(k,mean1,sd1),'b')\n",
    "plt.plot(k,calculate_probability(k,mean0,sd0),'r')\n",
    "plt.grid()"
   ]
  },
  {
   "cell_type": "markdown",
   "metadata": {},
   "source": [
    "### Test for $x=3$  and $x=5$"
   ]
  },
  {
   "cell_type": "code",
   "execution_count": 11,
   "metadata": {},
   "outputs": [
    {
     "name": "stdout",
     "output_type": "stream",
     "text": [
      "class 0\n"
     ]
    }
   ],
   "source": [
    "if(calculate_probability(3, mean0, sd0)>calculate_probability(3, mean1, sd1)):\n",
    "    print(\"class 0\")\n",
    "else:\n",
    "    print(\"class 1\")"
   ]
  },
  {
   "cell_type": "code",
   "execution_count": 12,
   "metadata": {},
   "outputs": [
    {
     "name": "stdout",
     "output_type": "stream",
     "text": [
      "class 0\n",
      "class 1\n"
     ]
    }
   ],
   "source": [
    "def ans(x):\n",
    "    if(calculate_probability(x, mean0, sd0)>calculate_probability(x, mean1, sd1)):\n",
    "        print(\"class 0\")\n",
    "    else:\n",
    "        print(\"class 1\")\n",
    "ans(3)\n",
    "ans(5)"
   ]
  },
  {
   "attachments": {
    "image.png": {
     "image/png": "[encoded data removed]"
    }
   },
   "cell_type": "markdown",
   "metadata": {},
   "source": [
    "## Homework:\n",
    "1. Try for this 2-D data using classnote\n",
    "![image.png](attachment:image.png)\n",
    "2. Implement Bayesian classifier for iris data.\n",
    "You can get help from following link. https://machinelearningmastery.com/naive-bayes-classifier-scratch-python/"
   ]
  },
  {
   "cell_type": "code",
   "execution_count": 13,
   "metadata": {},
   "outputs": [
    {
     "name": "stdout",
     "output_type": "stream",
     "text": [
      "class 0\n"
     ]
    }
   ],
   "source": [
    "#write code here\n",
    "dataset0=np.array([[3.39,2.33],[3.11,1.78],[1.34,3.36],[3.58,4.67],[2.28,2.86]])\n",
    "dataset1=np.array([[7.42,4.69],[5.74,3.53],[9.17,2.51],[7.79,3.42],[7.93,0.79]])\n",
    "mean00=np.sum(dataset0[:,0])/5\n",
    "mean01=np.sum(dataset0[:,1])/5\n",
    "mean10=np.sum(dataset1[:,0])/5\n",
    "mean11=np.sum(dataset1[:,1])/5\n",
    "def stdev(x,mean):\n",
    "    s=np.sqrt(np.sum(np.power(x-mean,2)/x.shape))\n",
    "    return s\n",
    "stdev00=stdev(dataset0[:,0],mean00)\n",
    "stdev01=stdev(dataset0[:,1],mean01)\n",
    "stdev10=stdev(dataset1[:,0],mean10)\n",
    "stdev11=stdev(dataset1[:,1],mean11)\n",
    "if(calculate_probability(3, mean00, stdev00)*calculate_probability(2, mean01, stdev01)>calculate_probability(3, mean10, stdev10)*calculate_probability(2, mean11, stdev11)):\n",
    "    print(\"class 0\")\n",
    "else:\n",
    "    print(\"class 1\")\n",
    "\n"
   ]
  },
  {
   "attachments": {
    "image.png": {
     "image/png": "[encoded data removed]"
    }
   },
   "cell_type": "markdown",
   "metadata": {},
   "source": [
    "## 2. K-Nearest neighbour (KNN)\n",
    "\n",
    "Consider the following observations:\n",
    "![image.png](attachment:image.png)\n",
    "\n",
    "Use KNN technique to classify the test data using K=3.\n",
    "\n",
    "Hint: \n",
    "<br>\n",
    "1) Calculate the Euclidean distance between the new point and the existing points.\n",
    "<br>\n",
    "2) Sort out the points distance-wise.\n",
    "<br>\n",
    "3) Now select the k-neighbours. "
   ]
  },
  {
   "cell_type": "code",
   "execution_count": 14,
   "metadata": {
    "scrolled": true
   },
   "outputs": [
    {
     "name": "stdout",
     "output_type": "stream",
     "text": [
      "Feature1|Feature2|Class\n",
      "[[-2. -1.  1.]\n",
      " [-2.  1.  2.]\n",
      " [-2.  2.  2.]\n",
      " [-1. -1.  1.]\n",
      " [ 1. -1.  1.]\n",
      " [ 1.  1.  3.]\n",
      " [ 1.  2.  3.]\n",
      " [ 2.  1.  3.]]\n"
     ]
    }
   ],
   "source": [
    "data = np.float32([[-2,-1,1],[-2,1,2],[-2,2,2],[-1,-1,1],[1,-1,1],[1,1,3],[1,2,3],[2,1,3]])\n",
    "print('Feature1|Feature2|Class')\n",
    "print(data)"
   ]
  },
  {
   "cell_type": "code",
   "execution_count": 15,
   "metadata": {},
   "outputs": [
    {
     "name": "stdout",
     "output_type": "stream",
     "text": [
      "[[ 1.        -1.         1.         0.       ]\n",
      " [-1.        -1.         1.         2.       ]\n",
      " [ 1.         1.         3.         2.       ]\n",
      " [ 2.         1.         3.         2.236068 ]\n",
      " [-2.        -1.         1.         3.       ]\n",
      " [ 1.         2.         3.         3.       ]\n",
      " [-2.         1.         2.         3.6055512]\n",
      " [-2.         2.         2.         4.2426405]]\n"
     ]
    }
   ],
   "source": [
    "x=np.float32([1,-1])\n",
    "dataset=data[0:,0:2]\n",
    "#print(dataset)\n",
    "d=dataset-x\n",
    "dd=np.power(d,2)\n",
    "#one=np.array([[1],[1]])\n",
    "#print(np.dot(dd,np.array[[1],[1]]))\n",
    "distance=np.sqrt(np.sum(dd, axis=1))\n",
    "#for i in range(0,8):\n",
    "#    distance[i]=np.sum(dd,axis=i)\n",
    "distance=distance.reshape(8,1)\n",
    "#print(distance)\n",
    "ans=np.append(data,distance,axis=1)\n",
    "print(ans[np.argsort(ans[:,3])])\n"
   ]
  },
  {
   "cell_type": "code",
   "execution_count": 16,
   "metadata": {},
   "outputs": [],
   "source": [
    "\n",
    "#write code here\n",
    "#in nearest 3 most frequent is class 1 hence it belongs to class 1"
   ]
  },
  {
   "cell_type": "markdown",
   "metadata": {},
   "source": [
    "## 3. K-Means\n",
    "\n",
    "Ignore the class information of the training data given in problem 2 and use K-means algorithm to classify the same. Assume the initial starting classes as:  \n",
    "<br>\n",
    "C1={observations 1,2}\n",
    "<br>\n",
    "C2={observations 3,4,5}\n",
    "<br>\n",
    "C3={observations 6,7,8}\n",
    "<br>\n",
    "\n",
    "Now using the result find the class that would be assigned to the test data.\n",
    "\n",
    "<br>\n",
    "Hint: \n",
    "\n",
    "1) Find the centroid (mean) of each cluster based on the initial classes assignment given.\n",
    "\n",
    "2) Find out the Euclidean distance between each point and each cluster centroid. \n",
    "\n",
    "3) Assign all the points to the closest cluster centroid.\n",
    "\n",
    "4) Recompute centroids of newly formed clusters.\n",
    "\n",
    "5) Stop if the new centroids are same as old centroids else repeat step 2 to 4. "
   ]
  },
  {
   "cell_type": "code",
   "execution_count": 104,
   "metadata": {},
   "outputs": [
    {
     "name": "stdout",
     "output_type": "stream",
     "text": [
      "[-2. -1.]\n",
      "[[0.         1.        ]\n",
      " [1.33333333 1.        ]\n",
      " [3.33333333 2.33333333]]\n",
      "[[-2.          0.        ]\n",
      " [-0.66666667  0.        ]\n",
      " [ 1.33333333  1.33333333]]\n"
     ]
    }
   ],
   "source": [
    "X = data[:,:-1]\n",
    "#print(X[1])\n",
    "print(X[0][0:2])\n",
    "m,n = X.shape\n",
    "datac1=np.mean(np.array([[-2 ,-1],[-2 ,1]]),axis=0)\n",
    "datac2=np.mean(np.array([[-2 ,2],[-1 ,-1],[1 ,-1]]),axis=0)\n",
    "datac3=np.mean(np.array([[1 ,1],[1 ,2],[2 ,1]]),axis=0)\n",
    "#print(datac2)\n",
    "centroid=np.array([datac1,datac2,datac3])\n",
    "print(centroid-X[0][0:2])\n",
    "print(centroid)"
   ]
  },
  {
   "cell_type": "code",
   "execution_count": 106,
   "metadata": {},
   "outputs": [
    {
     "name": "stdout",
     "output_type": "stream",
     "text": [
      "1\n"
     ]
    }
   ],
   "source": [
    "c1=np.array([[-2 ,-1],[-2 ,1]])\n",
    "c2=np.array([[-2 ,2],[-1 ,-1],[1 ,-1]])\n",
    "c3=np.array([[1 ,1],[1 ,2],[2 ,1]])\n",
    "def cal_cen(datac1,datac2,datac3):\n",
    "    datac1=np.mean(c1,axis=0)\n",
    "    datac2=np.mean(c2,axis=0)\n",
    "    datac3=np.mean(c3,axis=0)\n",
    "    centroid=np.array([datac1,datac2,datac3])\n",
    "    return centroid\n",
    "\n",
    "\n",
    "def dis_ec(centroid,point):\n",
    "    k=10000\n",
    "    distance=np.sqrt(np.sum(np.power(centroid-point,2), axis=1))\n",
    "    for i in range(0,3):\n",
    "        if(distance[i]<k):\n",
    "            k=distance[i]\n",
    "            m=i+1\n",
    "    return m\n",
    "print(dis_ec(centroid,X[0][0:2]))"
   ]
  },
  {
   "cell_type": "code",
   "execution_count": 110,
   "metadata": {},
   "outputs": [
    {
     "name": "stdout",
     "output_type": "stream",
     "text": [
      "[[-2. -1.  1.  1.  1.  1.  1.]\n",
      " [-2.  1.  1.  1.  1.  1.  1.]\n",
      " [-2.  2.  1.  1.  1.  1.  1.]\n",
      " [-1. -1.  2.  2.  2.  2.  2.]\n",
      " [ 1. -1.  2.  2.  2.  2.  2.]\n",
      " [ 1.  1.  3.  3.  3.  3.  3.]\n",
      " [ 1.  2.  3.  3.  3.  3.  3.]\n",
      " [ 2.  1.  3.  3.  3.  3.  3.]]\n",
      "[[-2.          0.66666667]\n",
      " [ 0.         -1.        ]\n",
      " [ 1.33333333  1.33333333]]\n"
     ]
    }
   ],
   "source": [
    "centroid=cal_cen(datac1,datac2,datac3)\n",
    "centroid_new=np.array([])\n",
    "\n",
    "for i in range(0,10):\n",
    "    if(np.array_equal(centroid,centroid_new)):\n",
    "        print(X)\n",
    "        print(centroid)\n",
    "        break\n",
    "    else:\n",
    "        centroid=cal_cen(datac1,datac2,datac3)\n",
    "        ans=np.zeros(8)\n",
    "        c1=list()\n",
    "        c2=list()\n",
    "        c3=list()\n",
    "        for j in range(0,8):\n",
    "            ans[j]=dis_ec(centroid,X[j][0:2])\n",
    "        ans=ans.reshape(8,1)\n",
    "        X=np.append(X,ans,axis=1)\n",
    "        X=X[np.argsort(X[:,2])]\n",
    "\n",
    "        for b in range(0,8):\n",
    "            if(X[b][2]==1):\n",
    "                c1.append(X[b][:2])\n",
    "            elif(X[b][2]==2):\n",
    "                c2.append(X[b][:2])\n",
    "            elif(X[b][2]==3):\n",
    "                c3.append(X[b][:2])\n",
    "        datac1=np.array(c1)\n",
    "        datac2=np.array(c2)\n",
    "        datac3=np.array(c3)\n",
    "        centroid_new=cal_cen(datac1,datac2,datac3)\n",
    "\n",
    "    \n",
    "        \n",
    "        "
   ]
  },
  {
   "cell_type": "markdown",
   "metadata": {},
   "source": [
    "## Final answer"
   ]
  },
  {
   "cell_type": "code",
   "execution_count": 124,
   "metadata": {},
   "outputs": [
    {
     "name": "stdout",
     "output_type": "stream",
     "text": [
      "final clusters: \n",
      " [[-2. -1.  1.]\n",
      " [-2.  1.  1.]\n",
      " [-2.  2.  1.]\n",
      " [-1. -1.  2.]\n",
      " [ 1. -1.  2.]\n",
      " [ 1.  1.  3.]\n",
      " [ 1.  2.  3.]\n",
      " [ 2.  1.  3.]]\n",
      "[[-2.          0.66666667]\n",
      " [ 0.         -1.        ]\n",
      " [ 1.33333333  1.33333333]]\n"
     ]
    }
   ],
   "source": [
    "print(\"final clusters: \\n\",X[:,:3])\n",
    "print(centroid)\n",
    "answer=X[:,:3]\n",
    "c1=list()\n",
    "c2=list()\n",
    "c3=list()\n",
    "for b in range(0,8):\n",
    "            if(X[b][2]==1):\n",
    "                c1.append(answer[b][:2])\n",
    "            elif(X[b][2]==2):\n",
    "                c2.append(answer[b][:2])\n",
    "            elif(X[b][2]==3):\n",
    "                c3.append(answer[b][:2])\n",
    "datac1=np.array(c1)\n",
    "datac2=np.array(c2)\n",
    "datac3=np.array(c3)\n",
    "\n"
   ]
  },
  {
   "cell_type": "code",
   "execution_count": 128,
   "metadata": {},
   "outputs": [
    {
     "data": {
      "image/png": "[encoded data removed]",
      "text/plain": [
       "<Figure size 432x288 with 1 Axes>"
      ]
     },
     "metadata": {
      "needs_background": "light"
     },
     "output_type": "display_data"
    }
   ],
   "source": [
    "plt.scatter(datac1[:,0],datac1[:,1],color='blue',s=100)\n",
    "plt.scatter(datac2[:,0],datac2[:,1],color='yellow',s=100)\n",
    "plt.scatter(datac3[:,0],datac3[:,1],color='green',s=100)\n",
    "plt.scatter(centroid[:,0],centroid[:,1],color='red')\n",
    "plt.show()"
   ]
  },
  {
   "cell_type": "markdown",
   "metadata": {},
   "source": [
    "# Done"
   ]
  },
  {
   "cell_type": "code",
   "execution_count": null,
   "metadata": {},
   "outputs": [],
   "source": []
  }
 ],
 "metadata": {
  "accelerator": "GPU",
  "colab": {
   "collapsed_sections": [],
   "name": "LAB 1 Introduction to python for CT314.ipynb",
   "provenance": [],
   "version": "0.3.2"
  },
  "kernelspec": {
   "display_name": "Python 3",
   "language": "python",
   "name": "python3"
  },
  "language_info": {
   "codemirror_mode": {
    "name": "ipython",
    "version": 3
   },
   "file_extension": ".py",
   "mimetype": "text/x-python",
   "name": "python",
   "nbconvert_exporter": "python",
   "pygments_lexer": "ipython3",
   "version": "3.7.9"
  }
 },
 "nbformat": 4,
 "nbformat_minor": 1
}
